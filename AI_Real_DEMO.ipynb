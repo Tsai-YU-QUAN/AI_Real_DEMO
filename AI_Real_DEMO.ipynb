{
 "cells": [
  {
   "cell_type": "code",
   "execution_count": null,
   "metadata": {},
   "outputs": [],
   "source": [
    "import pandas as pd  \n",
    "import numpy as np  \n",
    "import matplotlib.pyplot as plt \n",
    "import seaborn as seabornInstance \n",
    "import seaborn as sns\n",
    "from sklearn.model_selection import train_test_split \n",
    "from sklearn import metrics\n",
    "from sklearn import ensemble\n",
    "from sklearn.model_selection import cross_val_score\n",
    "import numpy \n",
    "from sklearn.preprocessing import StandardScaler\n",
    "from sklearn.metrics import classification_report, confusion_matrix, accuracy_score\n",
    "%matplotlib inline"
   ]
  },
  {
   "cell_type": "code",
   "execution_count": null,
   "metadata": {},
   "outputs": [],
   "source": [
    "train_data = pd.read_csv(\"h045.csv\")\n",
    "train_data.describe()\n",
    "#去除重複數據\n",
    "train_data.drop_duplicates()"
   ]
  },
  {
   "cell_type": "code",
   "execution_count": null,
   "metadata": {},
   "outputs": [],
   "source": [
    "#是否有沒有空值\n",
    "train_data.isnull().any()"
   ]
  },
  {
   "cell_type": "code",
   "execution_count": null,
   "metadata": {},
   "outputs": [],
   "source": [
    "#target,label分類\n",
    "X = train_data[train_data.columns[1:20]].values\n",
    "y = train_data[train_data.columns[0]].values"
   ]
  },
  {
   "cell_type": "code",
   "execution_count": null,
   "metadata": {},
   "outputs": [],
   "source": [
    "#pairplot\n",
    "#sns.pairplot(train_data) #使用seaborn繪製多變量圖\n",
    "\n",
    "plt.figure(figsize=(10,5))\n",
    "plt.tight_layout()\n",
    "\n",
    "seabornInstance.distplot(train_data[train_data.columns[0]])"
   ]
  },
  {
   "cell_type": "code",
   "execution_count": null,
   "metadata": {},
   "outputs": [],
   "source": [
    "#做2成test,8成training\n",
    "X_train, X_test, y_train, y_test = train_test_split(X, y, test_size=0.2)\n",
    "#做標準化\n",
    "sc = StandardScaler()\n",
    "X_train = sc.fit_transform(X_train)\n",
    "X_test = sc.transform(X_test)"
   ]
  },
  {
   "cell_type": "code",
   "execution_count": null,
   "metadata": {},
   "outputs": [],
   "source": [
    "# 建立 random forest 模型\n",
    "forest = ensemble.RandomForestRegressor(n_estimators = 100)\n",
    "forest.fit(X_train, y_train)"
   ]
  },
  {
   "cell_type": "code",
   "execution_count": null,
   "metadata": {},
   "outputs": [],
   "source": [
    "# 預測\n",
    "test_y_predicted = forest.predict(X_test)\n",
    "\n",
    "print(X_test.shape)\n",
    "print(test_y_predicted.shape)\n",
    "print(y_test.shape)"
   ]
  },
  {
   "cell_type": "code",
   "execution_count": null,
   "metadata": {},
   "outputs": [],
   "source": [
    "df = pd.DataFrame({'Actual': y_test.flatten(), 'Predicted': test_y_predicted.flatten()})\n",
    "print(df)"
   ]
  },
  {
   "cell_type": "code",
   "execution_count": null,
   "metadata": {},
   "outputs": [],
   "source": [
    "#直條圖\n",
    "df1 = df.head(80)\n",
    "df1.plot(kind='bar',figsize=(30,5))\n",
    "plt.grid(which='major', linestyle='-', linewidth='0.5', color='green')\n",
    "plt.grid(which='minor', linestyle=':', linewidth='0.5', color='black')\n",
    "plt.show()"
   ]
  },
  {
   "cell_type": "code",
   "execution_count": null,
   "metadata": {
    "scrolled": true
   },
   "outputs": [],
   "source": [
    "#線性圖\n",
    "df1 = df.head(100)\n",
    "df1.plot(figsize = (20,8))\n",
    "plt.show()\n",
    "\n",
    "\n",
    "\n",
    "names = ['B','C','D','E','F','G','H','I','J','K','L','M','N','O','P','Q','R','S','T']\n",
    "values = forest.feature_importances_\n",
    "\n",
    "plt.figure(figsize=(9, 3))\n",
    "plt.bar(names, values)\n",
    "\n",
    "\n",
    "\n",
    "#特徵重要度\n",
    "print(\"特徵重要性：\"+str(forest.feature_importances_))"
   ]
  },
  {
   "cell_type": "code",
   "execution_count": null,
   "metadata": {},
   "outputs": [],
   "source": [
    "#實際與偵測值的error差別\n",
    "plt.plot(y_test-test_y_predicted,label='error')\n",
    "plt.legend()"
   ]
  },
  {
   "cell_type": "code",
   "execution_count": null,
   "metadata": {},
   "outputs": [],
   "source": [
    "#y_true = [3, 1, 2, 5]\n",
    "#y_pred = [0, 2, 2, 5]\n",
    "#print(metrics.mean_absolute_error(y_true, y_pred))\n",
    "#此數據發現，Mean Absolute Error明顯低很多，但在Mean Squared Error大很多，表示大部分預測差異都在0左右，但少部分誤差過大，導致少部分預測失準\n",
    "print('Mean Absolute Error:', metrics.mean_absolute_error(y_test, test_y_predicted))  \n",
    "print('Mean Squared Error:', metrics.mean_squared_error(y_test, test_y_predicted))  \n",
    "print('Root Mean Squared Error:', np.sqrt(metrics.mean_squared_error(y_test, test_y_predicted)))"
   ]
  },
  {
   "cell_type": "code",
   "execution_count": null,
   "metadata": {},
   "outputs": [],
   "source": [
    "# 績效\n",
    "#The coefficient R^2 is defined as (1 - u/v)\n",
    "#lower values are worse\n",
    "#score = forest.score(X,y)\n",
    "\n",
    "score = forest.score(X,y)\n",
    "print('平均性能得分：'+str(score))\n",
    "y_pred = [0, 2, 1, 3.1]\n",
    "y_true = [0, 1.3, 2, 3]\n",
    "print(accuracy_score(y_true, y_pred))"
   ]
  }
 ],
 "metadata": {
  "kernelspec": {
   "display_name": "Python 3",
   "language": "python",
   "name": "python3"
  },
  "language_info": {
   "codemirror_mode": {
    "name": "ipython",
    "version": 3
   },
   "file_extension": ".py",
   "mimetype": "text/x-python",
   "name": "python",
   "nbconvert_exporter": "python",
   "pygments_lexer": "ipython3",
   "version": "3.7.2"
  }
 },
 "nbformat": 4,
 "nbformat_minor": 2
}
